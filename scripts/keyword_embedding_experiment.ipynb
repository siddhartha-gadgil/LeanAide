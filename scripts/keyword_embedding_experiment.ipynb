{
 "cells": [
  {
   "cell_type": "markdown",
   "id": "153ef22e",
   "metadata": {},
   "source": [
    "# Keyword extraction using sentence embeddings"
   ]
  },
  {
   "cell_type": "markdown",
   "id": "dae83d4a",
   "metadata": {},
   "source": [
    "**Source:** https://towardsdatascience.com/keyword-extraction-with-bert-724efca412ea "
   ]
  },
  {
   "cell_type": "markdown",
   "id": "c7b38b8b",
   "metadata": {},
   "source": [
    "## Imports"
   ]
  },
  {
   "cell_type": "code",
   "execution_count": 1,
   "id": "4d7618e0",
   "metadata": {
    "scrolled": true
   },
   "outputs": [],
   "source": [
    "import sys\n",
    "import json\n",
    "import numpy as np\n",
    "import itertools"
   ]
  },
  {
   "cell_type": "code",
   "execution_count": 2,
   "id": "6fac1fd9",
   "metadata": {
    "collapsed": true
   },
   "outputs": [
    {
     "name": "stdout",
     "output_type": "stream",
     "text": [
      "[{'keyword': 'left_ideal'}, {'keyword': 'noetherian'}, {'keyword': 'noetherian'}, {'keyword': 'polynomial_ring'}, {'keyword': 'Noetherian_ring'}]\n",
      "[{'keyword': 'Noetherian_ring'}, {'keyword': 'Category:en:Polynomials'}, {'keyword': 'Alexander_polynomial'}, {'keyword': 'two-sided_ideal'}, {'keyword': 'ring_homomorphism'}]\n"
     ]
    }
   ],
   "source": [
    "sys.path.append(\"../web_serv/\")\n",
    "from embed_picker import *"
   ]
  },
  {
   "cell_type": "markdown",
   "id": "4be43710",
   "metadata": {},
   "source": [
    "## Utils"
   ]
  },
  {
   "cell_type": "code",
   "execution_count": 3,
   "id": "39b1d7e6",
   "metadata": {},
   "outputs": [],
   "source": [
    "def file_to_json(file_name:str, extension:str, field_name:str):\n",
    "    \"\"\"\n",
    "    Convert a text file to a json array by reading in each line of the file `file_name` and \n",
    "    turning it into a json object with a single field named `field_name`. \n",
    "    \n",
    "    The final output is written to a file with the same name as `file_name` but with the `.json` extension.\n",
    "    \"\"\"\n",
    "    with open(file_name + extension, 'r') as f:\n",
    "        lines = f.readlines()\n",
    "        objs = [{field_name: line.strip()} for line in lines]\n",
    "        with open(file_name + '.json', 'w') as out:\n",
    "            json.dump(objs, out)"
   ]
  },
  {
   "cell_type": "code",
   "execution_count": 4,
   "id": "b597e559",
   "metadata": {},
   "outputs": [],
   "source": [
    "# file_to_json(\"../data/wiktionary_mathematics_keywords\", \".txt\", \"keyword\")"
   ]
  },
  {
   "cell_type": "code",
   "execution_count": 5,
   "id": "f0101bd8",
   "metadata": {},
   "outputs": [],
   "source": [
    "# save_embeddings(\"../data/wiktionary_mathematics_keywords.json\", \"keyword\", model)"
   ]
  },
  {
   "cell_type": "markdown",
   "id": "e00b0611",
   "metadata": {},
   "source": [
    "## Parameters"
   ]
  },
  {
   "cell_type": "code",
   "execution_count": 7,
   "id": "026da003",
   "metadata": {},
   "outputs": [],
   "source": [
    "model = \"all-MiniLM-L6-v2\""
   ]
  },
  {
   "cell_type": "code",
   "execution_count": 8,
   "id": "d1c0c76e",
   "metadata": {},
   "outputs": [],
   "source": [
    "embs, kwds = load_embeddings(\"../data/wiktionary_mathematics_keywords.json\", \"keyword\", model)"
   ]
  },
  {
   "cell_type": "code",
   "execution_count": 9,
   "id": "51454be4",
   "metadata": {},
   "outputs": [],
   "source": [
    "n_top = 5"
   ]
  },
  {
   "cell_type": "code",
   "execution_count": 14,
   "id": "b934c6f5",
   "metadata": {},
   "outputs": [],
   "source": [
    "n_candidate = 10"
   ]
  },
  {
   "cell_type": "markdown",
   "id": "4b646f8f",
   "metadata": {},
   "source": [
    "## Experiments"
   ]
  },
  {
   "cell_type": "code",
   "execution_count": 30,
   "id": "d476172f",
   "metadata": {},
   "outputs": [],
   "source": [
    "statement = \"Every convergent sequence is a Cauchy sequence, and the converse is true for real numbers, and this means that the topological space of the real numbers is complete.\""
   ]
  },
  {
   "cell_type": "code",
   "execution_count": 31,
   "id": "5bf8d8e4",
   "metadata": {},
   "outputs": [
    {
     "data": {
      "text/plain": [
       "[{'keyword': 'Cauchy_sequence'},\n",
       " {'keyword': 'topologicality'},\n",
       " {'keyword': 'Cauchy_space'},\n",
       " {'keyword': 'final_topology'},\n",
       " {'keyword': 'completeness_axiom'}]"
      ]
     },
     "execution_count": 31,
     "metadata": {},
     "output_type": "execute_result"
    }
   ],
   "source": [
    "closest_embeddings(statement, model, embs, kwds, n_top)"
   ]
  },
  {
   "cell_type": "code",
   "execution_count": 32,
   "id": "2e913baf",
   "metadata": {},
   "outputs": [
    {
     "data": {
      "text/plain": [
       "[{'keyword': 'completeness_axiom'},\n",
       " {'keyword': 'topological'},\n",
       " {'keyword': 'Cauchy_sequence'},\n",
       " {'keyword': 'complete_measure'},\n",
       " {'keyword': 'topologicality'}]"
      ]
     },
     "execution_count": 32,
     "metadata": {},
     "output_type": "execute_result"
    }
   ],
   "source": [
    "spread_similar_embeddings(statement, model, embs, kwds, n_top, n_candidate)"
   ]
  }
 ],
 "metadata": {
  "kernelspec": {
   "display_name": "Python 3 (ipykernel)",
   "language": "python",
   "name": "python3"
  },
  "language_info": {
   "codemirror_mode": {
    "name": "ipython",
    "version": 3
   },
   "file_extension": ".py",
   "mimetype": "text/x-python",
   "name": "python",
   "nbconvert_exporter": "python",
   "pygments_lexer": "ipython3",
   "version": "3.10.8"
  }
 },
 "nbformat": 4,
 "nbformat_minor": 5
}
