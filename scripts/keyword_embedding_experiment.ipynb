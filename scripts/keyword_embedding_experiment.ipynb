{
 "cells": [
  {
   "cell_type": "markdown",
   "id": "153ef22e",
   "metadata": {},
   "source": [
    "# Keyword extraction using sentence embeddings"
   ]
  },
  {
   "cell_type": "markdown",
   "id": "dae83d4a",
   "metadata": {},
   "source": [
    "**Source:** https://towardsdatascience.com/keyword-extraction-with-bert-724efca412ea "
   ]
  },
  {
   "cell_type": "markdown",
   "id": "c7b38b8b",
   "metadata": {},
   "source": [
    "## Imports"
   ]
  },
  {
   "cell_type": "code",
   "execution_count": 1,
   "id": "4d7618e0",
   "metadata": {
    "scrolled": true
   },
   "outputs": [],
   "source": [
    "import sys\n",
    "import json\n",
    "import numpy as np\n",
    "import itertools\n",
    "import yake"
   ]
  },
  {
   "cell_type": "code",
   "execution_count": 2,
   "id": "6fac1fd9",
   "metadata": {},
   "outputs": [],
   "source": [
    "sys.path.append(\"../web_serv/\")\n",
    "from embed_picker import *\n",
    "from keyword_extractor import *"
   ]
  },
  {
   "cell_type": "markdown",
   "id": "4be43710",
   "metadata": {},
   "source": [
    "## Utils"
   ]
  },
  {
   "cell_type": "code",
   "execution_count": 14,
   "id": "39b1d7e6",
   "metadata": {},
   "outputs": [],
   "source": [
    "def file_to_json(file_name:str, extension:str, field_name:str):\n",
    "    \"\"\"\n",
    "    Convert a text file to a json array by reading in each line of the file `file_name` and \n",
    "    turning it into a json object with a single field named `field_name`. \n",
    "    \n",
    "    The final output is written to a file with the same name as `file_name` but with the `.json` extension.\n",
    "    \"\"\"\n",
    "    with open(file_name + extension, 'r') as f:\n",
    "        lines = f.readlines()\n",
    "        objs = [{field_name: line.strip()} for line in lines]\n",
    "        with open(file_name + '.json', 'w', encoding=\"utf-8\") as out:\n",
    "            json.dump(objs, out, ensure_ascii=False)"
   ]
  },
  {
   "cell_type": "code",
   "execution_count": 15,
   "id": "b597e559",
   "metadata": {},
   "outputs": [],
   "source": [
    "#file_to_json(\"../data/wiktionary_mathematics_keywords\", \".txt\", \"keyword\")"
   ]
  },
  {
   "cell_type": "code",
   "execution_count": 16,
   "id": "957e206d",
   "metadata": {},
   "outputs": [
    {
     "data": {
      "text/plain": [
       "'\\nwith open(\"../data/wiktionary_mathematics_keywords.txt\", \\'r\\') as f:\\n    kwds = f.readlines()\\n    kwds_ = [*set(kwds)]\\n    \\nwith open(\"../data/wiktionary_mathematics_keywords.txt\", \\'w\\') as f:\\n    f.writelines(kwds_)   \\n'"
      ]
     },
     "execution_count": 16,
     "metadata": {},
     "output_type": "execute_result"
    }
   ],
   "source": [
    "'''\n",
    "with open(\"../data/wiktionary_mathematics_keywords.txt\", 'r') as f:\n",
    "    kwds = f.readlines()\n",
    "    kwds_ = [*set(kwds)]\n",
    "    \n",
    "with open(\"../data/wiktionary_mathematics_keywords.txt\", 'w') as f:\n",
    "    f.writelines(kwds_)   \n",
    "'''"
   ]
  },
  {
   "cell_type": "code",
   "execution_count": 17,
   "id": "f0101bd8",
   "metadata": {},
   "outputs": [],
   "source": [
    "#save_embeddings(\"../data/wiktionary_mathematics_keywords.json\", \"keyword\", model)"
   ]
  },
  {
   "cell_type": "markdown",
   "id": "e00b0611",
   "metadata": {},
   "source": [
    "## Parameters"
   ]
  },
  {
   "cell_type": "code",
   "execution_count": 18,
   "id": "026da003",
   "metadata": {},
   "outputs": [],
   "source": [
    "model = \"all-MiniLM-L6-v2\""
   ]
  },
  {
   "cell_type": "code",
   "execution_count": 19,
   "id": "d1c0c76e",
   "metadata": {},
   "outputs": [],
   "source": [
    "embs, kwds = load_embeddings(\"../data/wiktionary_mathematics_keywords.json\", \"keyword\", model)"
   ]
  },
  {
   "cell_type": "code",
   "execution_count": 20,
   "id": "51454be4",
   "metadata": {},
   "outputs": [],
   "source": [
    "n_top = 5"
   ]
  },
  {
   "cell_type": "code",
   "execution_count": 21,
   "id": "b934c6f5",
   "metadata": {},
   "outputs": [],
   "source": [
    "n_candidate = 10"
   ]
  },
  {
   "cell_type": "markdown",
   "id": "4b646f8f",
   "metadata": {},
   "source": [
    "## Experiments"
   ]
  },
  {
   "cell_type": "code",
   "execution_count": 22,
   "id": "d476172f",
   "metadata": {},
   "outputs": [],
   "source": [
    "statement = \"Every \""
   ]
  },
  {
   "cell_type": "code",
   "execution_count": 23,
   "id": "5bf8d8e4",
   "metadata": {},
   "outputs": [
    {
     "data": {
      "text/plain": [
       "[{'keyword': 'simple_group'},\n",
       " {'keyword': 'cyclic_group'},\n",
       " {'keyword': 'group_theory'},\n",
       " {'keyword': 'subgroup'},\n",
       " {'keyword': 'group'}]"
      ]
     },
     "execution_count": 23,
     "metadata": {},
     "output_type": "execute_result"
    }
   ],
   "source": [
    "closest_embeddings(statement, model, embs, kwds, n_top)"
   ]
  },
  {
   "cell_type": "code",
   "execution_count": 24,
   "id": "2e913baf",
   "metadata": {
    "scrolled": false
   },
   "outputs": [
    {
     "name": "stdout",
     "output_type": "stream",
     "text": [
      "Candidate keywords:  [{'keyword': 'trivial_group'}, {'keyword': 'normal_subgroup'}, {'keyword': 'cogroup'}, {'keyword': 'group_object'}, {'keyword': 'group_ring'}, {'keyword': 'simple_group'}, {'keyword': 'cyclic_group'}, {'keyword': 'group_theory'}, {'keyword': 'subgroup'}, {'keyword': 'group'}]\n",
      "Candidate keyword scores:  [0.5301939, 0.5374895, 0.5400141, 0.54497665, 0.546558, 0.57228845, 0.59932315, 0.6401416, 0.66509676, 0.6800729]\n",
      "Selected keywords:  [{'keyword': 'group'}, {'keyword': 'normal_subgroup'}, {'keyword': 'cyclic_group'}, {'keyword': 'group_object'}, {'keyword': 'cogroup'}]\n",
      "Selected keyword scores:  [0.6800729, 0.5374895, 0.59932315, 0.54497665, 0.5400141]\n"
     ]
    },
    {
     "data": {
      "text/plain": [
       "[{'keyword': 'group'},\n",
       " {'keyword': 'normal_subgroup'},\n",
       " {'keyword': 'cyclic_group'},\n",
       " {'keyword': 'group_object'},\n",
       " {'keyword': 'cogroup'}]"
      ]
     },
     "execution_count": 24,
     "metadata": {},
     "output_type": "execute_result"
    }
   ],
   "source": [
    "spread_similar_embeddings(statement, model, embs, kwds, n_top, n_candidate)"
   ]
  },
  {
   "cell_type": "markdown",
   "id": "c3c598cb",
   "metadata": {},
   "source": [
    "## More experiments"
   ]
  },
  {
   "cell_type": "code",
   "execution_count": 27,
   "id": "6f5c4fcf",
   "metadata": {},
   "outputs": [
    {
     "data": {
      "text/plain": [
       "0.87796074"
      ]
     },
     "execution_count": 27,
     "metadata": {},
     "output_type": "execute_result"
    }
   ],
   "source": [
    "np.dot(models[model].encode(\"finite\"), models[model].encode(\"finiteness\"))"
   ]
  },
  {
   "cell_type": "code",
   "execution_count": 28,
   "id": "e9fcefa1",
   "metadata": {},
   "outputs": [
    {
     "data": {
      "text/plain": [
       "0.9015876"
      ]
     },
     "execution_count": 28,
     "metadata": {},
     "output_type": "execute_result"
    }
   ],
   "source": [
    "np.dot(models[model].encode(\"finite\"), models[model].encode(\"finitely\"))"
   ]
  },
  {
   "cell_type": "code",
   "execution_count": 29,
   "id": "2dbd89ef",
   "metadata": {},
   "outputs": [
    {
     "data": {
      "text/plain": [
       "0.53661925"
      ]
     },
     "execution_count": 29,
     "metadata": {},
     "output_type": "execute_result"
    }
   ],
   "source": [
    "np.dot(models[model].encode(\"finite\"), models[model].encode(\"finite sum\"))"
   ]
  },
  {
   "cell_type": "code",
   "execution_count": 30,
   "id": "347481bf",
   "metadata": {},
   "outputs": [
    {
     "data": {
      "text/plain": [
       "0.57394695"
      ]
     },
     "execution_count": 30,
     "metadata": {},
     "output_type": "execute_result"
    }
   ],
   "source": [
    "np.dot(models[model].encode(\"finite\"), models[model].encode(\"finite group\"))"
   ]
  }
 ],
 "metadata": {
  "kernelspec": {
   "display_name": "Python 3 (ipykernel)",
   "language": "python",
   "name": "python3"
  },
  "language_info": {
   "codemirror_mode": {
    "name": "ipython",
    "version": 3
   },
   "file_extension": ".py",
   "mimetype": "text/x-python",
   "name": "python",
   "nbconvert_exporter": "python",
   "pygments_lexer": "ipython3",
   "version": "3.10.8"
  }
 },
 "nbformat": 4,
 "nbformat_minor": 5
}
