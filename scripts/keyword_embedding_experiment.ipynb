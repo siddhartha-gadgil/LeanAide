{
 "cells": [
  {
   "cell_type": "markdown",
   "id": "533813c8",
   "metadata": {},
   "source": [
    "# Keyword extraction using sentence embeddings"
   ]
  },
  {
   "cell_type": "markdown",
   "id": "9767f99e",
   "metadata": {},
   "source": [
    "**Source:** https://towardsdatascience.com/keyword-extraction-with-bert-724efca412ea "
   ]
  },
  {
   "cell_type": "markdown",
   "id": "0b33e5e1",
   "metadata": {},
   "source": [
    "## Imports"
   ]
  },
  {
   "cell_type": "code",
   "execution_count": 3,
   "id": "69510f9d",
   "metadata": {},
   "outputs": [],
   "source": [
    "import sys\n",
    "import json\n",
    "sys.path.append(\"../web_serv/\")\n",
    "import embed_picker"
   ]
  },
  {
   "cell_type": "markdown",
   "id": "19f58dc4",
   "metadata": {},
   "source": [
    "## Utils"
   ]
  },
  {
   "cell_type": "code",
   "execution_count": 4,
   "id": "c73531b3",
   "metadata": {},
   "outputs": [],
   "source": [
    "def file_to_json(file_name:str, extension:str, field_name:str):\n",
    "    \"\"\"\n",
    "    Convert a text file to a json array by reading in each line of the file `file_name` and \n",
    "    turning it into a json object with a single field named `field_name`. \n",
    "    \n",
    "    The final output is written to a file with the same name as `file_name` but with the `.json` extension.\n",
    "    \"\"\"\n",
    "    with open(file_name + extension, 'r') as f:\n",
    "        lines = f.readlines()\n",
    "        objs = [{field_name: line.strip()} for line in lines]\n",
    "        with open(file_name + '.json', 'w') as out:\n",
    "            json.dump(objs, out)"
   ]
  },
  {
   "cell_type": "code",
   "execution_count": 17,
   "id": "9759ff7c",
   "metadata": {},
   "outputs": [],
   "source": [
    "# file_to_json(\"../data/wiktionary_mathematics_keywords\", \".txt\", \"keyword\")"
   ]
  },
  {
   "cell_type": "code",
   "execution_count": 12,
   "id": "6cf0f2ed",
   "metadata": {},
   "outputs": [],
   "source": [
    "# embed_picker.save_embeddings(\"../data/wiktionary_mathematics_keywords.json\", \"keyword\", model)"
   ]
  },
  {
   "cell_type": "markdown",
   "id": "39084465",
   "metadata": {},
   "source": [
    "## Parameters"
   ]
  },
  {
   "cell_type": "code",
   "execution_count": 10,
   "id": "1a384285",
   "metadata": {},
   "outputs": [],
   "source": [
    "model = \"all-MiniLM-L6-v2\""
   ]
  },
  {
   "cell_type": "code",
   "execution_count": 13,
   "id": "5689d4e6",
   "metadata": {},
   "outputs": [],
   "source": [
    "embs, kwds = embed_picker.load_embeddings(\"../data/wiktionary_mathematics_keywords.json\", \"keyword\", model)"
   ]
  },
  {
   "cell_type": "code",
   "execution_count": 15,
   "id": "3fe3133a",
   "metadata": {},
   "outputs": [],
   "source": [
    "n_top = 5"
   ]
  },
  {
   "cell_type": "markdown",
   "id": "137603d2",
   "metadata": {},
   "source": [
    "## Experiments"
   ]
  },
  {
   "cell_type": "code",
   "execution_count": 14,
   "id": "668d18d3",
   "metadata": {},
   "outputs": [],
   "source": [
    "statement = \"A Riemannian metric is a global smooth section of the covariant two-tensor bundle on a smooth manifold.\""
   ]
  },
  {
   "cell_type": "code",
   "execution_count": 16,
   "id": "3df41b1c",
   "metadata": {},
   "outputs": [
    {
     "data": {
      "text/plain": [
       "[{'keyword': 'Riemannian_manifold'},\n",
       " {'keyword': 'Riemannian_manifold'},\n",
       " {'keyword': 'Riemannian_manifold'},\n",
       " {'keyword': 'Riemannian_geometry'},\n",
       " {'keyword': 'Riemannian_geometry'}]"
      ]
     },
     "execution_count": 16,
     "metadata": {},
     "output_type": "execute_result"
    }
   ],
   "source": [
    "embed_picker.closest_embeddings(statement, model, embs, kwds, n_top)"
   ]
  }
 ],
 "metadata": {
  "kernelspec": {
   "display_name": "Python 3 (ipykernel)",
   "language": "python",
   "name": "python3"
  },
  "language_info": {
   "codemirror_mode": {
    "name": "ipython",
    "version": 3
   },
   "file_extension": ".py",
   "mimetype": "text/x-python",
   "name": "python",
   "nbconvert_exporter": "python",
   "pygments_lexer": "ipython3",
   "version": "3.10.8"
  }
 },
 "nbformat": 4,
 "nbformat_minor": 5
}
